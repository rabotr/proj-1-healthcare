{
 "cells": [
  {
   "cell_type": "code",
   "execution_count": 1,
   "metadata": {},
   "outputs": [],
   "source": [
    "#Dependencies\n",
    "import os\n",
    "import csv\n",
    "import pandas as pd\n",
    "import numpy as np"
   ]
  },
  {
   "cell_type": "code",
   "execution_count": 2,
   "metadata": {},
   "outputs": [],
   "source": [
    "# Save path to data set in a variable\n",
    "population = \"population_clean.csv\""
   ]
  },
  {
   "cell_type": "code",
   "execution_count": 3,
   "metadata": {},
   "outputs": [
    {
     "data": {
      "text/html": [
       "<div>\n",
       "<style scoped>\n",
       "    .dataframe tbody tr th:only-of-type {\n",
       "        vertical-align: middle;\n",
       "    }\n",
       "\n",
       "    .dataframe tbody tr th {\n",
       "        vertical-align: top;\n",
       "    }\n",
       "\n",
       "    .dataframe thead th {\n",
       "        text-align: right;\n",
       "    }\n",
       "</style>\n",
       "<table border=\"1\" class=\"dataframe\">\n",
       "  <thead>\n",
       "    <tr style=\"text-align: right;\">\n",
       "      <th></th>\n",
       "      <th>Unnamed: 0</th>\n",
       "      <th>STNAME</th>\n",
       "      <th>State</th>\n",
       "      <th>City</th>\n",
       "      <th>PopEstimate2016</th>\n",
       "    </tr>\n",
       "  </thead>\n",
       "  <tbody>\n",
       "    <tr>\n",
       "      <th>0</th>\n",
       "      <td>0</td>\n",
       "      <td>Alabama</td>\n",
       "      <td>AL</td>\n",
       "      <td>ABBEVILLE CITY</td>\n",
       "      <td>2603</td>\n",
       "    </tr>\n",
       "    <tr>\n",
       "      <th>1</th>\n",
       "      <td>1</td>\n",
       "      <td>Alabama</td>\n",
       "      <td>AL</td>\n",
       "      <td>ADAMSVILLE CITY</td>\n",
       "      <td>4360</td>\n",
       "    </tr>\n",
       "    <tr>\n",
       "      <th>2</th>\n",
       "      <td>2</td>\n",
       "      <td>Alabama</td>\n",
       "      <td>AL</td>\n",
       "      <td>ADDISON TOWN</td>\n",
       "      <td>738</td>\n",
       "    </tr>\n",
       "    <tr>\n",
       "      <th>3</th>\n",
       "      <td>3</td>\n",
       "      <td>Alabama</td>\n",
       "      <td>AL</td>\n",
       "      <td>AKRON TOWN</td>\n",
       "      <td>334</td>\n",
       "    </tr>\n",
       "    <tr>\n",
       "      <th>4</th>\n",
       "      <td>4</td>\n",
       "      <td>Alabama</td>\n",
       "      <td>AL</td>\n",
       "      <td>ALABASTER CITY</td>\n",
       "      <td>32948</td>\n",
       "    </tr>\n",
       "  </tbody>\n",
       "</table>\n",
       "</div>"
      ],
      "text/plain": [
       "   Unnamed: 0   STNAME State             City  PopEstimate2016\n",
       "0           0  Alabama    AL   ABBEVILLE CITY             2603\n",
       "1           1  Alabama    AL  ADAMSVILLE CITY             4360\n",
       "2           2  Alabama    AL     ADDISON TOWN              738\n",
       "3           3  Alabama    AL       AKRON TOWN              334\n",
       "4           4  Alabama    AL   ALABASTER CITY            32948"
      ]
     },
     "execution_count": 3,
     "metadata": {},
     "output_type": "execute_result"
    }
   ],
   "source": [
    "# Use Pandas to read data\n",
    "population = pd.read_csv(population, encoding=\"ISO-8859-1\")\n",
    "population.head()"
   ]
  },
  {
   "cell_type": "code",
   "execution_count": 4,
   "metadata": {},
   "outputs": [
    {
     "data": {
      "text/plain": [
       "'test_df.csv'"
      ]
     },
     "execution_count": 4,
     "metadata": {},
     "output_type": "execute_result"
    }
   ],
   "source": [
    "# Save path to TEST data frame in a variable (snip from Rabia's codes)\n",
    "df_file = \"test_df.csv\"\n",
    "df_file"
   ]
  },
  {
   "cell_type": "code",
   "execution_count": 5,
   "metadata": {},
   "outputs": [
    {
     "data": {
      "text/html": [
       "<div>\n",
       "<style scoped>\n",
       "    .dataframe tbody tr th:only-of-type {\n",
       "        vertical-align: middle;\n",
       "    }\n",
       "\n",
       "    .dataframe tbody tr th {\n",
       "        vertical-align: top;\n",
       "    }\n",
       "\n",
       "    .dataframe thead th {\n",
       "        text-align: right;\n",
       "    }\n",
       "</style>\n",
       "<table border=\"1\" class=\"dataframe\">\n",
       "  <thead>\n",
       "    <tr style=\"text-align: right;\">\n",
       "      <th></th>\n",
       "      <th>Hospital</th>\n",
       "      <th>Location</th>\n",
       "      <th>City</th>\n",
       "      <th>City Population</th>\n",
       "      <th>County</th>\n",
       "      <th>County Population</th>\n",
       "      <th>Mortality Rates (by county)</th>\n",
       "      <th>State</th>\n",
       "      <th>Survey Rating</th>\n",
       "      <th>Surveys Completed</th>\n",
       "      <th>Survey Response Rate (%)</th>\n",
       "    </tr>\n",
       "  </thead>\n",
       "  <tbody>\n",
       "    <tr>\n",
       "      <th>0</th>\n",
       "      <td>MAYO CLINIC HEALTH SYSTEM - RED WING</td>\n",
       "      <td>701 HEWITT BOULEVARD, PO BOX 95\\nRED WING, MN\\...</td>\n",
       "      <td>RED WING</td>\n",
       "      <td>NaN</td>\n",
       "      <td>GOODHUE</td>\n",
       "      <td>NaN</td>\n",
       "      <td>NaN</td>\n",
       "      <td>MN</td>\n",
       "      <td>NaN</td>\n",
       "      <td>347</td>\n",
       "      <td>33</td>\n",
       "    </tr>\n",
       "    <tr>\n",
       "      <th>1</th>\n",
       "      <td>PROMEDICA HERRICK HOSPITAL</td>\n",
       "      <td>500 E POTTAWATAMIE STREET\\nTECUMSEH, MI\\n(42.0...</td>\n",
       "      <td>TECUMSEH</td>\n",
       "      <td>NaN</td>\n",
       "      <td>LENAWEE</td>\n",
       "      <td>NaN</td>\n",
       "      <td>NaN</td>\n",
       "      <td>MI</td>\n",
       "      <td>NaN</td>\n",
       "      <td>Not Available</td>\n",
       "      <td>Not Available</td>\n",
       "    </tr>\n",
       "    <tr>\n",
       "      <th>2</th>\n",
       "      <td>BRONSON LAKEVIEW HOSPITAL</td>\n",
       "      <td>408 HAZEN STREET\\nPAW PAW, MI\\n(42.221009, -85...</td>\n",
       "      <td>PAW PAW</td>\n",
       "      <td>NaN</td>\n",
       "      <td>VAN BUREN</td>\n",
       "      <td>NaN</td>\n",
       "      <td>NaN</td>\n",
       "      <td>MI</td>\n",
       "      <td>NaN</td>\n",
       "      <td>130</td>\n",
       "      <td>30</td>\n",
       "    </tr>\n",
       "    <tr>\n",
       "      <th>3</th>\n",
       "      <td>MAYO CLINIC HOSPITAL ROCHESTER</td>\n",
       "      <td>1216 SECOND STREET SOUTHWEST\\nROCHESTER, MN\\n(...</td>\n",
       "      <td>ROCHESTER</td>\n",
       "      <td>NaN</td>\n",
       "      <td>OLMSTED</td>\n",
       "      <td>NaN</td>\n",
       "      <td>NaN</td>\n",
       "      <td>MN</td>\n",
       "      <td>NaN</td>\n",
       "      <td>NaN</td>\n",
       "      <td>NaN</td>\n",
       "    </tr>\n",
       "  </tbody>\n",
       "</table>\n",
       "</div>"
      ],
      "text/plain": [
       "                               Hospital  \\\n",
       "0  MAYO CLINIC HEALTH SYSTEM - RED WING   \n",
       "1            PROMEDICA HERRICK HOSPITAL   \n",
       "2             BRONSON LAKEVIEW HOSPITAL   \n",
       "3        MAYO CLINIC HOSPITAL ROCHESTER   \n",
       "\n",
       "                                            Location       City  \\\n",
       "0  701 HEWITT BOULEVARD, PO BOX 95\\nRED WING, MN\\...   RED WING   \n",
       "1  500 E POTTAWATAMIE STREET\\nTECUMSEH, MI\\n(42.0...   TECUMSEH   \n",
       "2  408 HAZEN STREET\\nPAW PAW, MI\\n(42.221009, -85...    PAW PAW   \n",
       "3  1216 SECOND STREET SOUTHWEST\\nROCHESTER, MN\\n(...  ROCHESTER   \n",
       "\n",
       "   City Population     County  County Population  Mortality Rates (by county)  \\\n",
       "0              NaN    GOODHUE                NaN                          NaN   \n",
       "1              NaN    LENAWEE                NaN                          NaN   \n",
       "2              NaN  VAN BUREN                NaN                          NaN   \n",
       "3              NaN    OLMSTED                NaN                          NaN   \n",
       "\n",
       "  State  Survey Rating Surveys Completed Survey Response Rate (%)  \n",
       "0    MN            NaN               347                       33  \n",
       "1    MI            NaN     Not Available            Not Available  \n",
       "2    MI            NaN               130                       30  \n",
       "3    MN            NaN               NaN                      NaN  "
      ]
     },
     "execution_count": 5,
     "metadata": {},
     "output_type": "execute_result"
    }
   ],
   "source": [
    "# Read TEST data frame\n",
    "test_pd = pd.read_csv(df_file)\n",
    "test_pd"
   ]
  },
  {
   "cell_type": "code",
   "execution_count": 6,
   "metadata": {},
   "outputs": [
    {
     "data": {
      "text/plain": [
       "Index(['Hospital', 'Location', 'City', 'City Population', 'County',\n",
       "       'County Population', 'Mortality Rates (by county)', 'State',\n",
       "       'Survey Rating', 'Surveys Completed', 'Survey Response Rate (%)'],\n",
       "      dtype='object')"
      ]
     },
     "execution_count": 6,
     "metadata": {},
     "output_type": "execute_result"
    }
   ],
   "source": [
    "test_pd.columns"
   ]
  },
  {
   "cell_type": "code",
   "execution_count": 7,
   "metadata": {},
   "outputs": [
    {
     "data": {
      "text/html": [
       "<div>\n",
       "<style scoped>\n",
       "    .dataframe tbody tr th:only-of-type {\n",
       "        vertical-align: middle;\n",
       "    }\n",
       "\n",
       "    .dataframe tbody tr th {\n",
       "        vertical-align: top;\n",
       "    }\n",
       "\n",
       "    .dataframe thead th {\n",
       "        text-align: right;\n",
       "    }\n",
       "</style>\n",
       "<table border=\"1\" class=\"dataframe\">\n",
       "  <thead>\n",
       "    <tr style=\"text-align: right;\">\n",
       "      <th></th>\n",
       "      <th>State</th>\n",
       "      <th>City</th>\n",
       "      <th>City Population</th>\n",
       "      <th>Hospital</th>\n",
       "      <th>Location</th>\n",
       "      <th>County</th>\n",
       "      <th>County Population</th>\n",
       "      <th>Mortality Rates (by county)</th>\n",
       "      <th>Survey Rating</th>\n",
       "      <th>Surveys Completed</th>\n",
       "      <th>Survey Response Rate (%)</th>\n",
       "    </tr>\n",
       "  </thead>\n",
       "  <tbody>\n",
       "    <tr>\n",
       "      <th>0</th>\n",
       "      <td>MN</td>\n",
       "      <td>RED WING</td>\n",
       "      <td>NaN</td>\n",
       "      <td>MAYO CLINIC HEALTH SYSTEM - RED WING</td>\n",
       "      <td>701 HEWITT BOULEVARD, PO BOX 95\\nRED WING, MN\\...</td>\n",
       "      <td>GOODHUE</td>\n",
       "      <td>NaN</td>\n",
       "      <td>NaN</td>\n",
       "      <td>NaN</td>\n",
       "      <td>347</td>\n",
       "      <td>33</td>\n",
       "    </tr>\n",
       "    <tr>\n",
       "      <th>1</th>\n",
       "      <td>MI</td>\n",
       "      <td>TECUMSEH</td>\n",
       "      <td>NaN</td>\n",
       "      <td>PROMEDICA HERRICK HOSPITAL</td>\n",
       "      <td>500 E POTTAWATAMIE STREET\\nTECUMSEH, MI\\n(42.0...</td>\n",
       "      <td>LENAWEE</td>\n",
       "      <td>NaN</td>\n",
       "      <td>NaN</td>\n",
       "      <td>NaN</td>\n",
       "      <td>Not Available</td>\n",
       "      <td>Not Available</td>\n",
       "    </tr>\n",
       "    <tr>\n",
       "      <th>2</th>\n",
       "      <td>MI</td>\n",
       "      <td>PAW PAW</td>\n",
       "      <td>NaN</td>\n",
       "      <td>BRONSON LAKEVIEW HOSPITAL</td>\n",
       "      <td>408 HAZEN STREET\\nPAW PAW, MI\\n(42.221009, -85...</td>\n",
       "      <td>VAN BUREN</td>\n",
       "      <td>NaN</td>\n",
       "      <td>NaN</td>\n",
       "      <td>NaN</td>\n",
       "      <td>130</td>\n",
       "      <td>30</td>\n",
       "    </tr>\n",
       "    <tr>\n",
       "      <th>3</th>\n",
       "      <td>MN</td>\n",
       "      <td>ROCHESTER</td>\n",
       "      <td>NaN</td>\n",
       "      <td>MAYO CLINIC HOSPITAL ROCHESTER</td>\n",
       "      <td>1216 SECOND STREET SOUTHWEST\\nROCHESTER, MN\\n(...</td>\n",
       "      <td>OLMSTED</td>\n",
       "      <td>NaN</td>\n",
       "      <td>NaN</td>\n",
       "      <td>NaN</td>\n",
       "      <td>NaN</td>\n",
       "      <td>NaN</td>\n",
       "    </tr>\n",
       "  </tbody>\n",
       "</table>\n",
       "</div>"
      ],
      "text/plain": [
       "  State       City  City Population                              Hospital  \\\n",
       "0    MN   RED WING              NaN  MAYO CLINIC HEALTH SYSTEM - RED WING   \n",
       "1    MI   TECUMSEH              NaN            PROMEDICA HERRICK HOSPITAL   \n",
       "2    MI    PAW PAW              NaN             BRONSON LAKEVIEW HOSPITAL   \n",
       "3    MN  ROCHESTER              NaN        MAYO CLINIC HOSPITAL ROCHESTER   \n",
       "\n",
       "                                            Location     County  \\\n",
       "0  701 HEWITT BOULEVARD, PO BOX 95\\nRED WING, MN\\...    GOODHUE   \n",
       "1  500 E POTTAWATAMIE STREET\\nTECUMSEH, MI\\n(42.0...    LENAWEE   \n",
       "2  408 HAZEN STREET\\nPAW PAW, MI\\n(42.221009, -85...  VAN BUREN   \n",
       "3  1216 SECOND STREET SOUTHWEST\\nROCHESTER, MN\\n(...    OLMSTED   \n",
       "\n",
       "   County Population  Mortality Rates (by county)  Survey Rating  \\\n",
       "0                NaN                          NaN            NaN   \n",
       "1                NaN                          NaN            NaN   \n",
       "2                NaN                          NaN            NaN   \n",
       "3                NaN                          NaN            NaN   \n",
       "\n",
       "  Surveys Completed Survey Response Rate (%)  \n",
       "0               347                       33  \n",
       "1     Not Available            Not Available  \n",
       "2               130                       30  \n",
       "3               NaN                      NaN  "
      ]
     },
     "execution_count": 7,
     "metadata": {},
     "output_type": "execute_result"
    }
   ],
   "source": [
    "# Rearrange Columns in preparation for sorting State column\n",
    "PE = test_pd[['State', 'City','City Population','Hospital', 'Location',  'County',\n",
    "       'County Population', 'Mortality Rates (by county)', 'Survey Rating', 'Surveys Completed', 'Survey Response Rate (%)']]\n",
    "PE.head()"
   ]
  },
  {
   "cell_type": "code",
   "execution_count": 8,
   "metadata": {},
   "outputs": [
    {
     "data": {
      "text/html": [
       "<div>\n",
       "<style scoped>\n",
       "    .dataframe tbody tr th:only-of-type {\n",
       "        vertical-align: middle;\n",
       "    }\n",
       "\n",
       "    .dataframe tbody tr th {\n",
       "        vertical-align: top;\n",
       "    }\n",
       "\n",
       "    .dataframe thead th {\n",
       "        text-align: right;\n",
       "    }\n",
       "</style>\n",
       "<table border=\"1\" class=\"dataframe\">\n",
       "  <thead>\n",
       "    <tr style=\"text-align: right;\">\n",
       "      <th></th>\n",
       "      <th>State</th>\n",
       "      <th>City</th>\n",
       "      <th>City Population</th>\n",
       "      <th>Hospital</th>\n",
       "    </tr>\n",
       "  </thead>\n",
       "  <tbody>\n",
       "    <tr>\n",
       "      <th>0</th>\n",
       "      <td>MN</td>\n",
       "      <td>RED WING</td>\n",
       "      <td>NaN</td>\n",
       "      <td>MAYO CLINIC HEALTH SYSTEM - RED WING</td>\n",
       "    </tr>\n",
       "    <tr>\n",
       "      <th>1</th>\n",
       "      <td>MI</td>\n",
       "      <td>TECUMSEH</td>\n",
       "      <td>NaN</td>\n",
       "      <td>PROMEDICA HERRICK HOSPITAL</td>\n",
       "    </tr>\n",
       "    <tr>\n",
       "      <th>2</th>\n",
       "      <td>MI</td>\n",
       "      <td>PAW PAW</td>\n",
       "      <td>NaN</td>\n",
       "      <td>BRONSON LAKEVIEW HOSPITAL</td>\n",
       "    </tr>\n",
       "    <tr>\n",
       "      <th>3</th>\n",
       "      <td>MN</td>\n",
       "      <td>ROCHESTER</td>\n",
       "      <td>NaN</td>\n",
       "      <td>MAYO CLINIC HOSPITAL ROCHESTER</td>\n",
       "    </tr>\n",
       "  </tbody>\n",
       "</table>\n",
       "</div>"
      ],
      "text/plain": [
       "  State       City  City Population                              Hospital\n",
       "0    MN   RED WING              NaN  MAYO CLINIC HEALTH SYSTEM - RED WING\n",
       "1    MI   TECUMSEH              NaN            PROMEDICA HERRICK HOSPITAL\n",
       "2    MI    PAW PAW              NaN             BRONSON LAKEVIEW HOSPITAL\n",
       "3    MN  ROCHESTER              NaN        MAYO CLINIC HOSPITAL ROCHESTER"
      ]
     },
     "execution_count": 8,
     "metadata": {},
     "output_type": "execute_result"
    }
   ],
   "source": [
    "# Selecting only columns of interest\n",
    "PE = test_pd[['State', 'City','City Population','Hospital', ]]\n",
    "PE.head()"
   ]
  },
  {
   "cell_type": "code",
   "execution_count": 9,
   "metadata": {},
   "outputs": [
    {
     "name": "stderr",
     "output_type": "stream",
     "text": [
      "C:\\Users\\Vilma\\Anaconda3\\lib\\site-packages\\ipykernel\\__main__.py:7: SettingWithCopyWarning: \n",
      "A value is trying to be set on a copy of a slice from a DataFrame.\n",
      "Try using .loc[row_indexer,col_indexer] = value instead\n",
      "\n",
      "See the caveats in the documentation: http://pandas.pydata.org/pandas-docs/stable/indexing.html#indexing-view-versus-copy\n"
     ]
    }
   ],
   "source": [
    "# Two dataframes 1) population   2) PE \n",
    "# The objective is to insert into PE \"City Population\" column the data from population \"PopEstimate2016\" column if there is a match between the \"State\" and \"City\" columns on both dataframe.  \n",
    "# Please note the difference in the \"City\" columns in where population column has 2 strings.\n",
    "# Thank you!\n",
    "\n",
    "\n",
    "PE[\"City Population\"] = [population[(population['State']==PE['State'][i]) & (population['City'] == PE['City'][i])]['PopEstimate2016'] for i in range(PE[\"State\"].count())]"
   ]
  },
  {
   "cell_type": "code",
   "execution_count": 10,
   "metadata": {},
   "outputs": [
    {
     "data": {
      "text/plain": [
       "Series([], Name: PopEstimate2016, dtype: int64)"
      ]
     },
     "execution_count": 10,
     "metadata": {},
     "output_type": "execute_result"
    }
   ],
   "source": [
    "PE['City Population'][0]"
   ]
  },
  {
   "cell_type": "code",
   "execution_count": null,
   "metadata": {},
   "outputs": [],
   "source": [
    "####### BELOW ARE ALL MY ATTEMPTS TO MAKE THIS WORK ########### \n",
    "\n",
    "\n",
    "\n",
    "# https://stackoverflow.com/questions/42698281/pandas-if-value-in-a-dataframe-contains-string-from-another-dataframe-append\n",
    "# # Merge PE (df1) and population (df2) dfs\n",
    "\n",
    "# def return_nan(tup):\n",
    "#     return(np.nan if len(tup[0]) == 0 else tup[0][0])\n",
    "\n",
    "\n",
    "# def get_indexes_match(State, City):\n",
    "#     return([return_nan(np.where([x in e for x in City])) for e in State])\n",
    "\n",
    "\n",
    "# def merge(PE, population, left_on, right_on):\n",
    "#     PE.loc[:, 'idx'] = get_indexes_match(PE[left_on].values,\n",
    "#                                           population[right_on].values)\n",
    "#     population.loc[:, 'idx'] = np.arange(len(population))\n",
    "#     return(pd.merge(PE, population, how='left', on='idx'))\n",
    "\n",
    "\n",
    "# merge(PE, population, left_on='State', right_on='State')"
   ]
  },
  {
   "cell_type": "code",
   "execution_count": null,
   "metadata": {},
   "outputs": [],
   "source": [
    "# # TEST CODE to grab the first string contained within the \"NAME\" column using RED WING (city where Mayo clinic is located)\n",
    "# test = merged_df[merged_df[\"NAME\"].str.contains(\"RED WING\")]\n",
    "# test"
   ]
  },
  {
   "cell_type": "code",
   "execution_count": null,
   "metadata": {},
   "outputs": [],
   "source": []
  },
  {
   "cell_type": "code",
   "execution_count": null,
   "metadata": {},
   "outputs": [],
   "source": [
    "# MERGE \n",
    "# df_all = PE.merge(population.drop_duplicates(), on=['State','City'], \n",
    "#                    how='left', indicator=True)\n",
    "# df_all"
   ]
  },
  {
   "cell_type": "code",
   "execution_count": null,
   "metadata": {},
   "outputs": [],
   "source": [
    "#PE.City.isin(pd.population.City)\n"
   ]
  },
  {
   "cell_type": "code",
   "execution_count": null,
   "metadata": {},
   "outputs": [],
   "source": [
    "# Loop through PE (df2) and population (df1) dfs\n",
    "\n",
    "# xx = population.set_index('PopEstimate2016').values.tolist()\n",
    "\n",
    "# for i, row in PE.iterrows():\n",
    "#     if row[\"City\"] == population['City']:\n",
    "#         xx.append(i)\n",
    "# PE['New'] = PE.apply(lambda x : [y for y in xx if x in y] )\n",
    "# PE = PE[PE.New.apply(len)>0]\n",
    "# PE['New'] = PE.New.apply(pd.Series)[0].apply(lambda x : ','.join(x))\n",
    "# PE\n",
    "# # for index, row in grouped_PE.\n",
    "\n",
    "# 1) Match by State\n",
    "#     if PE[\"\"] == POP[\"State\"]\n",
    "#        print(\"Yes\")\n",
    "    \n",
    "#         else:\n",
    "#        print(\"No\")\n",
    "\n",
    "#    # 2) If PE['City'] is in POP['City'], \n",
    "#         # add the corresponding value of POP['POPESTIMATE2016'] to the row of PE['City Population'] where there is a match.\n",
    "\n",
    "        \n",
    "# population_df = population_df[~population_df.index.isin(dups_index)]\n",
    "# # population_df.head()\n",
    "\n",
    "\n",
    "# # What I need to do is, if df2['code'] is in df1['allcodes'], \n",
    "# add the corresponding value of allcodes to the end of a row in df2 where there is a match.\n",
    "\n",
    "#https://stackoverflow.com/questions/46591928/python-pandas-add-value-from-one-df-to-end-of-row-in-another-df-if-there-is-a-m\n"
   ]
  },
  {
   "cell_type": "code",
   "execution_count": null,
   "metadata": {},
   "outputs": [],
   "source": []
  },
  {
   "cell_type": "code",
   "execution_count": null,
   "metadata": {},
   "outputs": [],
   "source": [
    "# x_index = []\n",
    "# for i, row in grouped_PE.iterrows():\n",
    "#     if row['City'] == population.row['City']:\n",
    "#         x_index.append(i)\n",
    "# x_index"
   ]
  },
  {
   "cell_type": "code",
   "execution_count": null,
   "metadata": {},
   "outputs": [],
   "source": []
  },
  {
   "cell_type": "code",
   "execution_count": null,
   "metadata": {},
   "outputs": [],
   "source": [
    "# grouped_PE = PE.groupby(['State', 'City'])\n",
    "\n",
    "# # The object returned is a \"GroupBy\" object and cannot be viewed normally...\n",
    "# print(grouped_PE)\n",
    "\n",
    "# # In order to be visualized, a data function must be used...\n",
    "# grouped_PE.count().head()"
   ]
  },
  {
   "cell_type": "code",
   "execution_count": null,
   "metadata": {},
   "outputs": [],
   "source": []
  },
  {
   "cell_type": "code",
   "execution_count": null,
   "metadata": {},
   "outputs": [],
   "source": []
  }
 ],
 "metadata": {
  "celltoolbar": "Tags",
  "kernelspec": {
   "display_name": "Python [conda env:Anaconda3]",
   "language": "python",
   "name": "conda-env-Anaconda3-py"
  },
  "language_info": {
   "codemirror_mode": {
    "name": "ipython",
    "version": 3
   },
   "file_extension": ".py",
   "mimetype": "text/x-python",
   "name": "python",
   "nbconvert_exporter": "python",
   "pygments_lexer": "ipython3",
   "version": "3.6.4"
  }
 },
 "nbformat": 4,
 "nbformat_minor": 2
}
